{
 "cells": [
  {
   "cell_type": "markdown",
   "metadata": {},
   "source": [
    "# __COVID County Data Pull from NYT: July 6, 2020__"
   ]
  },
  {
   "cell_type": "code",
   "execution_count": null,
   "metadata": {},
   "outputs": [],
   "source": [
    "import pandas as pd\n",
    "\n",
    "#read in csv from NYT\n",
    "covcounty61420df = pd.read_csv('##path##', dtype={\"fips\": str})\n",
    "\n",
    "# #create case fatality rate variable & insert new column into df\n",
    "cfr = covcounty61420df['deaths']/covcounty61420df['cases']\n",
    "covcounty61420df.insert(5, \"CFR(%)\", cfr*100)\n"
   ]
  },
  {
   "cell_type": "code",
   "execution_count": null,
   "metadata": {},
   "outputs": [],
   "source": [
    "#filter by county descending by name and date\n",
    "covcounty61420df = covcounty61420df.sort_values(by =['county', 'date'])"
   ]
  },
  {
   "cell_type": "code",
   "execution_count": null,
   "metadata": {},
   "outputs": [],
   "source": [
    "#how many unique counties are there in this df\n",
    "covcounty61420df['county'].nunique()"
   ]
  },
  {
   "cell_type": "code",
   "execution_count": null,
   "metadata": {},
   "outputs": [],
   "source": [
    "covcounty61420df['fips'].nunique()"
   ]
  },
  {
   "cell_type": "code",
   "execution_count": null,
   "metadata": {},
   "outputs": [],
   "source": [
    "covcounty61420df.shape"
   ]
  },
  {
   "cell_type": "code",
   "execution_count": null,
   "metadata": {},
   "outputs": [],
   "source": [
    "#remove counties outside of 0.1-99.9% cfr\n",
    "covcountydf = covcounty61420df[(covcounty61420df['CFR(%)']>0.1) & (covcounty61420df['CFR(%)']<100)]\n",
    "covcountydf = covcountydf.sort_values(by =['county', 'date', 'CFR(%)'])\n",
    "covcountydf.head()"
   ]
  },
  {
   "cell_type": "code",
   "execution_count": null,
   "metadata": {},
   "outputs": [],
   "source": [
    "covcountydf.describe()"
   ]
  },
  {
   "cell_type": "markdown",
   "metadata": {},
   "source": [
    "## __March Data__"
   ]
  },
  {
   "cell_type": "code",
   "execution_count": null,
   "metadata": {},
   "outputs": [],
   "source": [
    "#obtain cfr dataset for counties on Mar 31, 2020\n",
    "filt = covcountydf['date']=='2020-03-31'\n",
    "covcounty331df = covcountydf[filt]\n",
    "covcounty331df.head()"
   ]
  },
  {
   "cell_type": "code",
   "execution_count": null,
   "metadata": {},
   "outputs": [],
   "source": [
    "covcounty331df.describe()"
   ]
  },
  {
   "cell_type": "code",
   "execution_count": null,
   "metadata": {},
   "outputs": [],
   "source": [
    "covcounty331df['cases'].median()"
   ]
  },
  {
   "cell_type": "markdown",
   "metadata": {},
   "source": [
    "## __Map of US Counties by CFR March__"
   ]
  },
  {
   "cell_type": "code",
   "execution_count": null,
   "metadata": {},
   "outputs": [],
   "source": [
    "#create map of all unique US Counties with available data for March 31, 2020\n",
    "from urllib.request import urlopen\n",
    "import json\n",
    "with urlopen('https://raw.githubusercontent.com/plotly/datasets/master/geojson-counties-fips.json') as response:\n",
    "    counties = json.load(response)\n",
    "\n",
    "import pandas as pd\n",
    "\n",
    "import plotly.express as px\n",
    "\n",
    "fig = px.choropleth(covcounty331df, geojson=counties, locations='fips', color='CFR(%)',\n",
    "                           color_continuous_scale=\"GnBu\",\n",
    "                           range_color=(0, 10),\n",
    "                           scope=\"usa\",\n",
    "                           labels={'CFR(%)':'cfr'}\n",
    "                          )\n",
    "fig.update_layout(margin={\"r\":0,\"t\":0,\"l\":0,\"b\":0})\n",
    "fig.show()"
   ]
  },
  {
   "cell_type": "code",
   "execution_count": null,
   "metadata": {},
   "outputs": [],
   "source": [
    "#Sort Top March Counties by CFR(%)\n",
    "topcovcounty331df = covcounty331df.sort_values(by =['CFR(%)'], ascending=False)\n",
    "filt = topcovcounty331df['cases']>56\n",
    "topcovcounty331df[filt].head()                                        "
   ]
  },
  {
   "cell_type": "code",
   "execution_count": null,
   "metadata": {},
   "outputs": [],
   "source": [
    "topcovcounty331df[filt].describe()"
   ]
  },
  {
   "cell_type": "markdown",
   "metadata": {},
   "source": [
    "## __Map of US Counties Cases > Median by CFR March__"
   ]
  },
  {
   "cell_type": "code",
   "execution_count": null,
   "metadata": {},
   "outputs": [],
   "source": [
    "topmardf = topcovcounty331df[filt]\n",
    "\n",
    "from urllib.request import urlopen\n",
    "import json\n",
    "with urlopen('https://raw.githubusercontent.com/plotly/datasets/master/geojson-counties-fips.json') as response:\n",
    "    counties = json.load(response)\n",
    "fig = px.choropleth(topmardf, geojson=counties, locations='fips', color='CFR(%)',\n",
    "                           color_continuous_scale=\"GnBu\",\n",
    "                           range_color=(0, 10),\n",
    "                           scope=\"usa\",\n",
    "                           labels={'CFR(%)':'cfr'}\n",
    "                          )\n",
    "fig.update_layout(margin={\"r\":0,\"t\":0,\"l\":0,\"b\":0})\n",
    "fig.show()"
   ]
  },
  {
   "cell_type": "code",
   "execution_count": null,
   "metadata": {},
   "outputs": [],
   "source": [
    "#print top march csv counties\n",
    "#topmardf.to_csv('topmarchco.csv')"
   ]
  },
  {
   "cell_type": "markdown",
   "metadata": {},
   "source": [
    "## __April Data__"
   ]
  },
  {
   "cell_type": "code",
   "execution_count": null,
   "metadata": {},
   "outputs": [],
   "source": [
    "#obtain cfr dataset for counties on April 30, 2020\n",
    "filt = covcountydf['date']=='2020-04-30'\n",
    "covcounty430df = covcountydf[filt]\n",
    "covcounty430df.head()"
   ]
  },
  {
   "cell_type": "code",
   "execution_count": null,
   "metadata": {},
   "outputs": [],
   "source": [
    "covcounty430df.describe()"
   ]
  },
  {
   "cell_type": "code",
   "execution_count": null,
   "metadata": {},
   "outputs": [],
   "source": [
    "covcounty430df['cases'].median()"
   ]
  },
  {
   "cell_type": "code",
   "execution_count": null,
   "metadata": {},
   "outputs": [],
   "source": [
    "#create map of all unique US Counties with available data for April 30, 2020\n",
    "from urllib.request import urlopen\n",
    "import json\n",
    "with urlopen('https://raw.githubusercontent.com/plotly/datasets/master/geojson-counties-fips.json') as response:\n",
    "    counties = json.load(response)\n",
    "\n",
    "import pandas as pd\n",
    "\n",
    "import plotly.express as px\n",
    "\n",
    "fig = px.choropleth(covcounty430df, geojson=counties, locations='fips', color='CFR(%)',\n",
    "                           color_continuous_scale=\"GnBu\",\n",
    "                           range_color=(0, 10),\n",
    "                           scope=\"usa\",\n",
    "                           labels={'CFR(%)':'cfr'}\n",
    "                          )\n",
    "fig.update_layout(margin={\"r\":0,\"t\":0,\"l\":0,\"b\":0})\n",
    "fig.show()"
   ]
  },
  {
   "cell_type": "code",
   "execution_count": null,
   "metadata": {},
   "outputs": [],
   "source": [
    "#sort top April Counties by CFR(%)\n",
    "topcovcounty430df = covcounty430df.sort_values(by =['CFR(%)'], ascending=False)\n",
    "filt = topcovcounty430df['cases']>88\n",
    "topcovcounty430df[filt].head()        "
   ]
  },
  {
   "cell_type": "code",
   "execution_count": null,
   "metadata": {},
   "outputs": [],
   "source": [
    "topcovcounty430df[filt].describe()"
   ]
  },
  {
   "cell_type": "markdown",
   "metadata": {},
   "source": [
    "## __Map of US Counties Cases > Median by CFR April__"
   ]
  },
  {
   "cell_type": "code",
   "execution_count": null,
   "metadata": {},
   "outputs": [],
   "source": [
    "topaprildf = topcovcounty430df[filt]\n",
    "\n",
    "from urllib.request import urlopen\n",
    "import json\n",
    "with urlopen('https://raw.githubusercontent.com/plotly/datasets/master/geojson-counties-fips.json') as response:\n",
    "    counties = json.load(response)\n",
    "fig = px.choropleth(topaprildf, geojson=counties, locations='fips', color='CFR(%)',\n",
    "                           color_continuous_scale=\"GnBu\",\n",
    "                           range_color=(0, 10),\n",
    "                           scope=\"usa\",\n",
    "                           labels={'CFR(%)':'cfr'}\n",
    "                          )\n",
    "fig.update_layout(margin={\"r\":0,\"t\":0,\"l\":0,\"b\":0})\n",
    "fig.show()"
   ]
  },
  {
   "cell_type": "markdown",
   "metadata": {},
   "source": [
    "## __May Data__"
   ]
  },
  {
   "cell_type": "code",
   "execution_count": null,
   "metadata": {},
   "outputs": [],
   "source": [
    "#obtain cfr dataset for May 31, 2020\n",
    "filt = covcountydf['date']=='2020-05-31'\n",
    "covcounty531df = covcountydf[filt]\n",
    "covcounty531df.head()"
   ]
  },
  {
   "cell_type": "code",
   "execution_count": null,
   "metadata": {},
   "outputs": [],
   "source": [
    "covcounty531df.describe()"
   ]
  },
  {
   "cell_type": "code",
   "execution_count": null,
   "metadata": {},
   "outputs": [],
   "source": [
    "covcounty531df['cases'].median()"
   ]
  },
  {
   "cell_type": "code",
   "execution_count": null,
   "metadata": {},
   "outputs": [],
   "source": [
    "#create map of all unique US Counties with available data for May 31, 2020 \n",
    "from urllib.request import urlopen\n",
    "import json\n",
    "with urlopen('https://raw.githubusercontent.com/plotly/datasets/master/geojson-counties-fips.json') as response:\n",
    "    counties = json.load(response)\n",
    "\n",
    "import pandas as pd\n",
    "\n",
    "import plotly.express as px\n",
    "\n",
    "fig = px.choropleth(covcounty531df, geojson=counties, locations='fips', color='CFR(%)',\n",
    "                           color_continuous_scale=\"GnBu\",\n",
    "                           range_color=(0, 10),\n",
    "                           scope=\"usa\",\n",
    "                           labels={'CFR(%)':'cfr'}\n",
    "                          )\n",
    "fig.update_layout(margin={\"r\":0,\"t\":0,\"l\":0,\"b\":0})\n",
    "fig.show()"
   ]
  },
  {
   "cell_type": "code",
   "execution_count": null,
   "metadata": {},
   "outputs": [],
   "source": [
    "#sort top May Counties by CFR(%)\n",
    "topcovcounty531df = covcounty531df.sort_values(by =['CFR(%)'], ascending=False)\n",
    "filt = topcovcounty531df['cases']>144\n",
    "topcovcounty531df[filt].head()        "
   ]
  },
  {
   "cell_type": "code",
   "execution_count": null,
   "metadata": {},
   "outputs": [],
   "source": [
    "topcovcounty531df[filt].describe() "
   ]
  },
  {
   "cell_type": "markdown",
   "metadata": {},
   "source": [
    "## __Map of US Counties Cases > Median by CFR May__"
   ]
  },
  {
   "cell_type": "code",
   "execution_count": null,
   "metadata": {},
   "outputs": [],
   "source": [
    "topmaydf = topcovcounty531df[filt]\n",
    "\n",
    "from urllib.request import urlopen\n",
    "import json\n",
    "with urlopen('https://raw.githubusercontent.com/plotly/datasets/master/geojson-counties-fips.json') as response:\n",
    "    counties = json.load(response)\n",
    "fig = px.choropleth(topmaydf, geojson=counties, locations='fips', color='CFR(%)',\n",
    "                           color_continuous_scale=\"GnBu\",\n",
    "                           range_color=(0, 10),\n",
    "                           scope=\"usa\",\n",
    "                           labels={'CFR(%)':'cfr'}\n",
    "                          )\n",
    "fig.update_layout(margin={\"r\":0,\"t\":0,\"l\":0,\"b\":0})\n",
    "fig.show()"
   ]
  },
  {
   "cell_type": "markdown",
   "metadata": {},
   "source": [
    "## __June Data__"
   ]
  },
  {
   "cell_type": "code",
   "execution_count": null,
   "metadata": {},
   "outputs": [],
   "source": [
    "#obtain cfr dataset for June 30, 2020\n",
    "filt = covcountydf['date']=='2020-06-30'\n",
    "covcounty614df = covcountydf[filt]\n",
    "covcounty614df.head()"
   ]
  },
  {
   "cell_type": "code",
   "execution_count": null,
   "metadata": {},
   "outputs": [],
   "source": [
    "covcounty614df.describe()"
   ]
  },
  {
   "cell_type": "code",
   "execution_count": null,
   "metadata": {},
   "outputs": [],
   "source": [
    "covcounty614df['cases'].median()"
   ]
  },
  {
   "cell_type": "code",
   "execution_count": null,
   "metadata": {},
   "outputs": [],
   "source": [
    "#create map of all unique US Counties with available data for June 14, 2020\n",
    "from urllib.request import urlopen\n",
    "import json\n",
    "with urlopen('https://raw.githubusercontent.com/plotly/datasets/master/geojson-counties-fips.json') as response:\n",
    "    counties = json.load(response)\n",
    "\n",
    "import pandas as pd\n",
    "\n",
    "import plotly.express as px\n",
    "\n",
    "fig = px.choropleth(covcounty614df, geojson=counties, locations='fips', color='CFR(%)',\n",
    "                           color_continuous_scale=\"GnBu\",\n",
    "                           range_color=(0, 10),\n",
    "                           scope=\"usa\",\n",
    "                           labels={'CFR(%)':'cfr'}\n",
    "                          )\n",
    "fig.update_layout(margin={\"r\":0,\"t\":0,\"l\":0,\"b\":0})\n",
    "fig.show()"
   ]
  },
  {
   "cell_type": "markdown",
   "metadata": {},
   "source": [
    "### __Top June Counties by Case Fatality Rate__"
   ]
  },
  {
   "cell_type": "code",
   "execution_count": null,
   "metadata": {},
   "outputs": [],
   "source": [
    "#sort top June Counties by CFR(%)\n",
    "topcovcounty614df = covcounty614df.sort_values(by =['CFR(%)'], ascending=False)\n",
    "filthi = topcovcounty614df['cases']>228\n",
    "topcovcounty614df[filthi].head()   "
   ]
  },
  {
   "cell_type": "code",
   "execution_count": null,
   "metadata": {},
   "outputs": [],
   "source": [
    "topcovcounty614df[filthi].describe()  "
   ]
  },
  {
   "cell_type": "markdown",
   "metadata": {},
   "source": [
    "## __Map of US Counties Cases > Median by CFR June__"
   ]
  },
  {
   "cell_type": "code",
   "execution_count": null,
   "metadata": {},
   "outputs": [],
   "source": [
    "topjundf = topcovcounty614df[filthi]\n",
    "\n",
    "from urllib.request import urlopen\n",
    "import json\n",
    "with urlopen('https://raw.githubusercontent.com/plotly/datasets/master/geojson-counties-fips.json') as response:\n",
    "    counties = json.load(response)\n",
    "fig = px.choropleth(topjundf, geojson=counties, locations='fips', color='CFR(%)',\n",
    "                           color_continuous_scale=\"GnBu\",\n",
    "                           range_color=(0, 10),\n",
    "                           scope=\"usa\",\n",
    "                           labels={'CFR(%)':'cfr'}\n",
    "                          )\n",
    "fig.update_layout(margin={\"r\":0,\"t\":0,\"l\":0,\"b\":0})\n",
    "fig.show()"
   ]
  },
  {
   "cell_type": "markdown",
   "metadata": {},
   "source": [
    "## __Top June Case County Demographic Data__"
   ]
  },
  {
   "cell_type": "code",
   "execution_count": null,
   "metadata": {},
   "outputs": [],
   "source": [
    "covcounty614df.head()"
   ]
  },
  {
   "cell_type": "code",
   "execution_count": null,
   "metadata": {},
   "outputs": [],
   "source": [
    "covcounty614df.describe()"
   ]
  },
  {
   "cell_type": "code",
   "execution_count": null,
   "metadata": {},
   "outputs": [],
   "source": [
    "covcounty614df['CFR(%)'].median()"
   ]
  },
  {
   "cell_type": "code",
   "execution_count": null,
   "metadata": {},
   "outputs": [],
   "source": [
    "#filter covid county data from June 30, 2020 by Median CFR (breakpoint of 4)\n",
    "filthi = covcounty614df['CFR(%)']>=6.25\n",
    "filtlo = covcounty614df['CFR(%)']<6.25\n",
    "junehicountydf = covcounty614df[filthi]\n",
    "junelocountydf = covcounty614df[filtlo]"
   ]
  },
  {
   "cell_type": "code",
   "execution_count": null,
   "metadata": {},
   "outputs": [],
   "source": [
    "#Merge census data to high and low June COVID County data with previously combined census county demographics and economic data\n",
    "\n",
    "#read in county ethnic demographics from US Census - 5 Year Data\n",
    "demographicdf  = pd.read_csv('##path##', engine='python')\n",
    "pd.set_option('display.max_columns', 85)\n"
   ]
  },
  {
   "cell_type": "code",
   "execution_count": null,
   "metadata": {},
   "outputs": [],
   "source": [
    "demographicdf.rename(columns = {\"Total Population 25 years and over- Bachelor's degree\": \"Num College Grads\"}, inplace=True)\n",
    "demographicdf.head()"
   ]
  },
  {
   "cell_type": "code",
   "execution_count": null,
   "metadata": {},
   "outputs": [],
   "source": [
    "demographicdf.dropna(inplace=True)\n",
    "#demographicdf.isnull().sum()"
   ]
  },
  {
   "cell_type": "code",
   "execution_count": null,
   "metadata": {},
   "outputs": [],
   "source": [
    "#read in data about older population inhabitants\n",
    "agesdf = pd.read_csv('##path##', engine='python')"
   ]
  },
  {
   "cell_type": "code",
   "execution_count": null,
   "metadata": {},
   "outputs": [],
   "source": [
    "#create new df with only Geo ID and population >62 years\n",
    "over62df = agesdf[['GEO_ID', 'Total Population 62 Years and over']].copy()\n",
    "over62df.dropna(inplace = True)\n",
    "#over62df.to_csv('over62.csv') - note, needed to find atypical characters and impute median value (5700)\n",
    "over62df = pd.read_csv('##path##', engine='python')\n",
    "#over62df['Total Population 62 Years and over']= over62df['Total Population 62 Years and over'].astype(float)"
   ]
  },
  {
   "cell_type": "code",
   "execution_count": null,
   "metadata": {},
   "outputs": [],
   "source": [
    "#create fips from Geo ID\n",
    "splitfipsdf = over62df[\"GEO_ID\"].str.split(\"S\", n=1, expand=True)\n",
    "over62df[\"fips\"] = splitfipsdf[1]\n",
    "over62df['fips']= over62df['fips'].astype(float)"
   ]
  },
  {
   "cell_type": "code",
   "execution_count": null,
   "metadata": {},
   "outputs": [],
   "source": [
    "#merge demographic info with High CFR June Counties on fips\n",
    "junehicountydf['fips']=junehicountydf['fips'].astype(float)\n",
    "junhidf = pd.merge(junehicountydf, demographicdf, on='fips')\n",
    "junhidf = pd.merge(junhidf, over62df, on='fips')\n",
    "pd.set_option('display.max_columns', 85)\n",
    "#mergecensusdf.to_csv('mergecensus.csv')\n",
    "junhidf.dropna(inplace=True)"
   ]
  },
  {
   "cell_type": "markdown",
   "metadata": {},
   "source": [
    "## __Descriptive Statistics for June US Counties with a CFR% >= 6.25__"
   ]
  },
  {
   "cell_type": "code",
   "execution_count": null,
   "metadata": {},
   "outputs": [],
   "source": [
    "junhidf.describe()"
   ]
  },
  {
   "cell_type": "code",
   "execution_count": null,
   "metadata": {},
   "outputs": [],
   "source": [
    "junhidf.shape"
   ]
  },
  {
   "cell_type": "code",
   "execution_count": null,
   "metadata": {},
   "outputs": [],
   "source": [
    "#merge demographic info with Low CFR June Counties on fips\n",
    "junelocountydf['fips']=junelocountydf['fips'].astype(float)\n",
    "junlodf = pd.merge(junelocountydf, demographicdf, on='fips')\n",
    "junlodf = pd.merge(junlodf, over62df, on='fips')\n",
    "pd.set_option('display.max_columns', 85)\n",
    "#mergecensusdf.to_csv('mergecensus.csv')\n",
    "junlodf.dropna(inplace=True)\n",
    "junlodf.head()"
   ]
  },
  {
   "cell_type": "markdown",
   "metadata": {},
   "source": [
    "## __Descriptive Statistics for June US Counties with a CFR% < 6.25__"
   ]
  },
  {
   "cell_type": "code",
   "execution_count": null,
   "metadata": {},
   "outputs": [],
   "source": [
    "junlodf.describe()"
   ]
  },
  {
   "cell_type": "markdown",
   "metadata": {},
   "source": [
    "## __State County Counts for Both CFR Cohorts__"
   ]
  },
  {
   "cell_type": "code",
   "execution_count": null,
   "metadata": {},
   "outputs": [],
   "source": [
    "#high CFR% counties in June Counts by State\n",
    "hicountiesdf = junhidf.groupby('state')['county'].nunique()"
   ]
  },
  {
   "cell_type": "code",
   "execution_count": null,
   "metadata": {},
   "outputs": [],
   "source": [
    "#low CFR% counties in June Counts by State\n",
    "locountiesdf = junlodf.groupby('state')['county'].nunique()"
   ]
  },
  {
   "cell_type": "markdown",
   "metadata": {},
   "source": [
    "## __County Counts by Month with CFR >=6.25%__"
   ]
  },
  {
   "cell_type": "code",
   "execution_count": null,
   "metadata": {},
   "outputs": [],
   "source": [
    "filtmarcfr = topcovcounty331df['CFR(%)']>=6.25\n",
    "topcovcounty331df[filtmarcfr]\n",
    "print(\"March County Count >= CFR 7: \", topcovcounty331df[filtmarcfr].shape)\n",
    "\n",
    "filtaprlcfr = topcovcounty430df['CFR(%)']>=6.25\n",
    "topcovcounty430df[filtaprlcfr]\n",
    "print(\"April County Count >= CFR 7: \", topcovcounty430df[filtaprlcfr].shape)\n",
    "\n",
    "filtmaycfr = topcovcounty531df['CFR(%)']>=6.25\n",
    "topcovcounty531df[filtmaycfr]\n",
    "print(\"May County Count >= CFR 7: \", topcovcounty531df[filtmaycfr].shape)\n",
    "\n",
    "filtjuncfr = topcovcounty614df['CFR(%)']>=6.25\n",
    "topcovcounty614df[filtjuncfr]\n",
    "print(\"June County Count >= CFR 7: \", topcovcounty614df[filtjuncfr].shape)"
   ]
  }
 ],
 "metadata": {
  "kernelspec": {
   "display_name": "Python 3",
   "language": "python",
   "name": "python3"
  },
  "language_info": {
   "codemirror_mode": {
    "name": "ipython",
    "version": 3
   },
   "file_extension": ".py",
   "mimetype": "text/x-python",
   "name": "python",
   "nbconvert_exporter": "python",
   "pygments_lexer": "ipython3",
   "version": "3.8.3"
  }
 },
 "nbformat": 4,
 "nbformat_minor": 4
}
